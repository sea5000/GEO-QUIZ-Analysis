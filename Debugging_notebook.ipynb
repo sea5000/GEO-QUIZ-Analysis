{
 "cells": [
  {
   "cell_type": "code",
   "execution_count": null,
   "metadata": {},
   "outputs": [],
   "source": [
    "import firebase_admin\n",
    "from firebase_admin import credentials, firestore\n",
    "\n",
    "cred = credentials.Certificate(\"../geo-quiz-7ad38-ea4fdf4f6b42.json\")\n",
    "firebase_admin.initialize_app(cred)"
   ]
  },
  {
   "cell_type": "code",
   "execution_count": 1,
   "metadata": {},
   "outputs": [
    {
     "name": "stdout",
     "output_type": "stream",
     "text": [
      "Initilizing v3.0 of GEOPULL\n"
     ]
    }
   ],
   "source": [
    "from firebase_Obj import GeoPull\n",
    "#import firebase_Obj\n",
    "geo = GeoPull()"
   ]
  },
  {
   "cell_type": "code",
   "execution_count": null,
   "metadata": {},
   "outputs": [
    {
     "name": "stdout",
     "output_type": "stream",
     "text": [
      "Data pulled from Firestore and written to file: ./1-5-25 Data/1-5-25-DataPull.csv\n"
     ]
    }
   ],
   "source": [
    "date = \"5-5-25\"\n",
    "geo.pull(w=True, name=f'./{date} Data/{date}-DataPull')"
   ]
  },
  {
   "cell_type": "code",
   "execution_count": null,
   "metadata": {},
   "outputs": [],
   "source": [
    "%debug"
   ]
  },
  {
   "cell_type": "code",
   "execution_count": null,
   "metadata": {},
   "outputs": [],
   "source": [
    "import csv\n",
    "data = []\n",
    "with open('./24-4-25/24-4-25-DataPull.csv', 'r', newline='' encodee='utf-8-sig') as csvfile:\n",
    "    reader = csv.reader(csvfile, delimiter=',')\n",
    "    for row in reader:\n",
    "        data.append(row)\n",
    "data_dict = {index-1: dict(zip(data[0], row)) for index, row in enumerate(data[1:], start=1)}\n",
    "for k, i in data_dict.items():\n",
    "    i['quizResults'] = eval(i['quizResults'])\n",
    "    # k[i] = (i['quizResults']\n",
    "print(data_dict)\n",
    "geo.dataRaw = data_dict"
   ]
  },
  {
   "cell_type": "code",
   "execution_count": null,
   "metadata": {},
   "outputs": [],
   "source": [
    "# geo.writeMap(test='europe', name='./4-11-25 Data/Austria/4-4-25-EU-EUMAP', w=True, filter='cFilter',cFilter='Austria',randomState=2)\n",
    "geo.writeMap(test='us', name='./24-4-25/Combined/24-4-25-US-USMAP', w=True,randomState=2)"
   ]
  },
  {
   "cell_type": "code",
   "execution_count": null,
   "metadata": {},
   "outputs": [],
   "source": [
    "geo.initCheck(test=\"europe\", filter='cFilter',cFilter=\"Austria\")"
   ]
  },
  {
   "cell_type": "code",
   "execution_count": null,
   "metadata": {},
   "outputs": [],
   "source": [
    "geo.FreqTable['europe']"
   ]
  },
  {
   "cell_type": "code",
   "execution_count": null,
   "metadata": {},
   "outputs": [],
   "source": [
    "geo.FreqTable"
   ]
  },
  {
   "cell_type": "code",
   "execution_count": null,
   "metadata": {},
   "outputs": [],
   "source": [
    "%debug"
   ]
  },
  {
   "cell_type": "code",
   "execution_count": null,
   "metadata": {},
   "outputs": [],
   "source": [
    "geo.PCAOutput(test='europe', name='./GEO-QUIZ-Analysis-Git/austria/4-4-25-PCA-US-EUMAP', w=True, filter='cFilter',cFilter='Austria',kMeansNum=8, showPlot=False,randomState=2)"
   ]
  },
  {
   "cell_type": "code",
   "execution_count": null,
   "metadata": {},
   "outputs": [],
   "source": [
    "%debug"
   ]
  },
  {
   "cell_type": "code",
   "execution_count": null,
   "metadata": {},
   "outputs": [],
   "source": [
    "geo.FreqTable['cFilter']"
   ]
  },
  {
   "cell_type": "code",
   "execution_count": null,
   "metadata": {},
   "outputs": [],
   "source": [
    "geo.FreqTable['europe'][2]"
   ]
  },
  {
   "cell_type": "code",
   "execution_count": null,
   "metadata": {},
   "outputs": [],
   "source": [
    "geo.frequencyTable(test='europe', filter='filter-europe')[2]"
   ]
  },
  {
   "cell_type": "code",
   "execution_count": null,
   "metadata": {},
   "outputs": [],
   "source": [
    "geo.writeFreqTable(test='europe', name='test-Europe-Freq-Output',filter='filter-europe')"
   ]
  },
  {
   "cell_type": "code",
   "execution_count": null,
   "metadata": {},
   "outputs": [],
   "source": [
    "geo.writeMap(test='europe', name='4-4-25-EUMAP-EU-Correctness-Relative',w=True, filter='filter-europe',relative=True)\n",
    "# geo.writeMap(test='europe', name='4-4-25-EUMAP-US-Correctness-t',w=True, filter='filter-us')\n",
    "# geo.writeMap(test='us', name='4-4-25-USMAP-EU-Correctness-t',w=True, filter='filter-europe')\n",
    "# geo.writeMap(test='us', name='4-4-25-USMAP-US-Correctness-t',w=True, filter='filter-us')"
   ]
  },
  {
   "cell_type": "code",
   "execution_count": null,
   "metadata": {},
   "outputs": [],
   "source": [
    "%debug"
   ]
  },
  {
   "cell_type": "code",
   "execution_count": null,
   "metadata": {},
   "outputs": [],
   "source": [
    "geo.writeFreqTable(test='us', name='4-4-25-USMAP-EU-Correctness', filter='filter-europe')"
   ]
  },
  {
   "cell_type": "code",
   "execution_count": null,
   "metadata": {},
   "outputs": [],
   "source": [
    "%debug"
   ]
  },
  {
   "cell_type": "code",
   "execution_count": null,
   "metadata": {},
   "outputs": [],
   "source": [
    "geo.PCAMap(test=\"us\", name='4-4-25-US-FilterTEST-45c', numComp=2, kMeansNum=45, w = True,randomState=2,filter='filter-us')"
   ]
  },
  {
   "cell_type": "code",
   "execution_count": null,
   "metadata": {},
   "outputs": [],
   "source": [
    "data = [[None,None,None,[0.89, 1.0, 0.9, 0.86, 1.0, 0.86, 0.85, 0.79, 1.0, 1.0, 0.96, 1.0, 0.88, 0.79, 0.8, 0.88, 0.94, 0.95, 0.97, 1.0, 0.73, 0.97, 0.91, 0.76, 0.84, 0.93, 0.83, 0.93, 0.84, 0.89, 0.9, 0.93, 1.0, 0.98, 0.95, 0.93, 1.0, 0.91, 0.77, 1.0, 1.0, 0.97, 1.0, 0.96, 0.89, 0.97, 1.0, 0.82, 0.87, 0.86]]]\n",
    "sList = ['Alabama', 'Alaska', 'Arizona', 'Arkansas', 'California', 'Colorado', 'Connecticut', 'Delaware', 'Florida', 'Georgia', 'Hawaii', 'Idaho', 'Illinois', 'Indiana', 'Iowa', 'Kansas', 'Kentucky', 'Louisiana', 'Maine', 'Maryland', 'Massachusetts', 'Michigan', 'Minnesota', 'Mississippi', 'Missouri', 'Montana', 'Nebraska', 'Nevada', 'New Hampshire', 'New Jersey', 'New Mexico', 'New York', 'North Carolina', 'North Dakota', 'Ohio', 'Oklahoma', 'Oregon', 'Pennsylvania', 'Rhode Island', 'South Carolina', 'South Dakota', 'Tennessee', 'Texas', 'Utah', 'Vermont', 'Virginia', 'Washington', 'West Virginia', 'Wisconsin', 'Wyoming']"
   ]
  },
  {
   "cell_type": "code",
   "execution_count": null,
   "metadata": {},
   "outputs": [],
   "source": [
    "from matplotlib.cm import get_cmap\n",
    "from matplotlib.colors import to_hex\n",
    "import matplotlib.pyplot as plt\n",
    "clustersC = set()\n",
    "clustersD = []\n",
    "for i in range(len(data[0][len(data[0])-1])):\n",
    "    clustersC.add(data[0][len(data[0])-1][i])\n",
    "    clustersD.append(data[0][len(data[0])-1][i])\n",
    "print(\"clustersC\",clustersC)\n",
    "print(\"clustersD\",clustersD)\n",
    "#num_clusters = []\n",
    "num_clusters = len(clustersC)\n",
    "print(\"num_clusters\",num_clusters)\n",
    "cmap = plt.cm.get_cmap('viridis', num_clusters) #\n",
    "print(\"cmap\",cmap)\n",
    "stateClusters = []\n",
    "clustersC = list(clustersC)\n",
    "for k, i in enumerate(clustersD):\n",
    "    stateClusters.append(clustersC.index(i))\n",
    "state_cluster_map = {state: int(cluster) for state, cluster in zip(sList, stateClusters)}\n",
    "print(\"state_cluster_map\",state_cluster_map)\n",
    "\n",
    "cluster_colors = {cluster: to_hex(cmap(cluster)[:3]) for cluster in range(num_clusters)}\n",
    "print(\"cluster_colors\",cluster_colors)\n",
    "# Map states to their corresponding colors\n",
    "state_color_map = {state: cluster_colors[cluster] for state, cluster in state_cluster_map.items()}\n",
    "print(\"state_color_map\",state_color_map)\n",
    "\n"
   ]
  },
  {
   "cell_type": "code",
   "execution_count": null,
   "metadata": {},
   "outputs": [],
   "source": [
    "import matplotlib.colors as mcolors\n",
    "colors = ['#FF0000', '#FFFF00', '#289800']  # Red, Yellow, Green\n",
    "cmap = mcolors.LinearSegmentedColormap.from_list('RedYellowGreen', colors, N=100)\n",
    "cmap\n",
    "            "
   ]
  },
  {
   "cell_type": "code",
   "execution_count": null,
   "metadata": {},
   "outputs": [],
   "source": [
    "geo.FreqTable['filter-us'][0][len(geo.FreqTable['filter-us'][0])-1]"
   ]
  },
  {
   "cell_type": "code",
   "execution_count": null,
   "metadata": {},
   "outputs": [],
   "source": [
    "%debug"
   ]
  },
  {
   "cell_type": "code",
   "execution_count": null,
   "metadata": {},
   "outputs": [],
   "source": [
    "geo.PCAOutput(test=\"us\", name='4-4-25-US-TEST2', numComp=2, kMeansNum=16, w = True,randomState=2)"
   ]
  },
  {
   "cell_type": "code",
   "execution_count": null,
   "metadata": {},
   "outputs": [],
   "source": [
    "%debug"
   ]
  },
  {
   "cell_type": "code",
   "execution_count": null,
   "metadata": {},
   "outputs": [],
   "source": [
    "import json\n",
    "json.\n",
    "dataDict = []\n",
    "for i in data:\n",
    "    dataDict.append(dict(i))\n",
    "print(dataDict)"
   ]
  },
  {
   "cell_type": "code",
   "execution_count": null,
   "metadata": {},
   "outputs": [],
   "source": [
    "LOKY_MAX_CPU_COUNT = 4"
   ]
  },
  {
   "cell_type": "code",
   "execution_count": null,
   "metadata": {},
   "outputs": [],
   "source": [
    "drawMap(self, test='europe', name='Europe-Output-4-4-25', numComp=2, kMeansNum=8, w=False)"
   ]
  },
  {
   "cell_type": "code",
   "execution_count": null,
   "metadata": {},
   "outputs": [],
   "source": [
    "LOKY_MAX_CPU_COUNT = 4\n",
    "geo.PCAOutput(test='us', name='test1-pca', numComp=2)"
   ]
  },
  {
   "cell_type": "code",
   "execution_count": null,
   "metadata": {},
   "outputs": [],
   "source": [
    "import csv\n",
    "import json"
   ]
  },
  {
   "cell_type": "code",
   "execution_count": null,
   "metadata": {},
   "outputs": [],
   "source": [
    "# Get a Firestore client\n",
    "db = firestore.client()\n",
    "\n",
    "# Fetch data from Firestore (let's say we want to fetch data from a collection 'users')\n",
    "users_ref = db.collection('scores-combined')\n",
    "\n",
    "# Get all documents in the 'users' collection\n",
    "docs = users_ref.stream()"
   ]
  },
  {
   "cell_type": "code",
   "execution_count": null,
   "metadata": {},
   "outputs": [],
   "source": [
    "\n",
    "\n",
    "data = []\n",
    "\n",
    "for doc in docs:\n",
    "    data.append(doc.to_dict())\n",
    "with open('output2.json', 'w') as json_file:\n",
    "    json.dump(data, json_file, indent=4)"
   ]
  },
  {
   "cell_type": "code",
   "execution_count": null,
   "metadata": {},
   "outputs": [],
   "source": [
    "\n",
    "cList = ['Andorra', 'Albania', 'Austria', 'Bosnia and Herzegovina', 'Belgium', 'Bulgaria', 'Belarus', 'Switzerland', 'Cyprus', 'Czechia', 'Germany', 'Denmark', 'Estonia', 'Spain', 'Finland', 'France', 'Greece', 'Croatia', 'Hungary', 'Ireland', 'Iceland', 'Italy', 'Liechtenstein', 'Lithuania', 'Luxembourg', 'Latvia', 'Malta', 'Monaco', 'Moldova', 'Montenegro', 'Macedonia', 'Netherlands', 'Norway', 'Poland', 'Portugal', 'Serbia', 'Russia', 'Romania', 'Sweden', 'Slovenia', 'Slovakia', 'San Marino', 'The Vatican', 'Türkiye / Turkey', 'United Kingdom', 'Ukraine']\n",
    "sList = ['Alabama', 'Alaska', 'Arizona', 'Arkansas', 'California', 'Colorado', 'Connecticut', 'Delaware', 'Florida', 'Georgia', 'Hawaii', 'Idaho', 'Illinois', 'Indiana', 'Iowa', 'Kansas', 'Kentucky', 'Louisiana', 'Maine', 'Maryland', 'Massachusetts', 'Michigan', 'Minnesota', 'Mississippi', 'Missouri', 'Montana', 'Nebraska', 'Nevada', 'New Hampshire', 'New Jersey', 'New Mexico', 'New York', 'North Carolina', 'North Dakota', 'Ohio', 'Oklahoma', 'Oregon', 'Pennsylvania', 'Rhode Island', 'South Carolina', 'South Dakota', 'Tennessee', 'Texas', 'Utah', 'Vermont', 'Virginia', 'Washington', 'West Virginia', 'Wisconsin', 'Wyoming']\n",
    "\n",
    "# Read the JSON data\n",
    "with open('output2.json', 'r') as json_file:\n",
    "    data = json.load(json_file)\n",
    "\n",
    "# Write the data to a CSV file\n",
    "with open('output3.csv', 'w', newline='') as csv_file:\n",
    "    csv_writer = csv.writer(csv_file)\n",
    "    \n",
    "    # Write the header\n",
    "    header = [\"name\",\"origin\",\"time\",\"score\",\"quizResults\",\"QCount\"]\n",
    "    csv_writer.writerow(header)\n",
    "    \n",
    "    # Write the rows\n",
    "    for row in data:\n",
    "        #print(len(row.values()))\n",
    "        if len(row.values())==4:\n",
    "            scoreEurope = 0\n",
    "            scoreUS = 0\n",
    "            for qN in row['quizResults'].keys():\n",
    "                #print(qN)\n",
    "                if int(qN) <= 19:\n",
    "                    if row['quizResults'][qN]['correct'] == True:\n",
    "                        scoreEurope += 1\n",
    "                if int(qN) > 19:\n",
    "                    if row['quizResults'][qN]['correct'] == True:\n",
    "                        scoreUS += 1\n",
    "                row['score'] = [scoreEurope,scoreUS]\n",
    "            #print(row['quizResults'])\n",
    "    for row in data:\n",
    "        writeRow = []\n",
    "        writeRow.append(row['name'])\n",
    "        writeRow.append(row['origin'])\n",
    "        writeRow.append(row['time'])\n",
    "        writeRow.append(row['score'])\n",
    "        writeRow.append(row['quizResults'])\n",
    "        writeRow.append(len(row['quizResults']))\n",
    "\n",
    "        csv_writer.writerow(writeRow)\n",
    "        #csv_writer.writerow(row.values())\n",
    "    #with open('output3.json', 'w') as json_file:\n",
    "    #    json.dump(data, json_file, indent=4)"
   ]
  },
  {
   "cell_type": "code",
   "execution_count": null,
   "metadata": {},
   "outputs": [],
   "source": [
    "#= (MsValueCellReference / 86400000) + DATE(1970,1,1)\n",
    "\n",
    "# OUtputs a frequency table of the quiz results for each test, US and Europe\n",
    "def frequencyTable(qList,test, data): #qList is the list of countries or states, test is if it is 'us' or 'europe', and data is test data\n",
    "    outputData = []\n",
    "    qList = len(sList)\n",
    "    answers = {}\n",
    "    for state in sList: # Creates a blank output table for each state\n",
    "        blank = [0]\n",
    "        blank*= qList\n",
    "        answers[state] = blank\n",
    "\n",
    "    #outputData[0] = sList\n",
    "    dataCopy = data\n",
    "    for key in range(len(dataCopy)):\n",
    "        qResults = data[key]['quizResults']\n",
    "        for qN in qResults.keys():\n",
    "            if qResults[qN]['test'] == test and 'Bosnia and Herzegovina'!= qResults[qN]['guess']:\n",
    "                answer = qResults[qN]['answer']\n",
    "                guess = qResults[qN]['guess']\n",
    "                count = answers[answer][sList.index(guess)]\n",
    "                count += 1\n",
    "                answers[answer][sList.index(guess)] = count\n",
    "\n",
    "    for i, j in answers.items():\n",
    "        print(i,j)\n",
    "    #print(answers)\n",
    "    key = 0\n",
    "    for i in answers.keys():\n",
    "        row = []\n",
    "        row.append(sList[key])\n",
    "        row+=answers[i]\n",
    "        outputData.append(row)\n",
    "        key +=1\n",
    "    return outputData\n",
    "\n",
    "\n",
    "\n"
   ]
  },
  {
   "cell_type": "code",
   "execution_count": null,
   "metadata": {},
   "outputs": [],
   "source": [
    "with open('State Data-1.csv', 'w', newline='') as csv_file:\n",
    "    csv_writer = csv.writer(csv_file)\n",
    "    csv_writer.writerow([\"State\"]+sList)\n",
    "    for k,i in enumerate(frequencyTable(sList,'us', data)):\n",
    "        csv_writer.writerow(i)\n",
    "with open('Europe Data-1.csv', 'w', newline='') as csv_file:\n",
    "    csv_writer = csv.writer(csv_file)\n",
    "    csv_writer.writerow([\"Country\"]+cList)\n",
    "    for k,i in enumerate(frequencyTable(cList,'europe', data)):\n",
    "        csv_writer.writerow(i)"
   ]
  },
  {
   "cell_type": "code",
   "execution_count": null,
   "metadata": {},
   "outputs": [],
   "source": [
    "#Should be depreciated ** This is the old code to create the Europe data frequency table\n",
    "\n",
    "outputData = []\n",
    "ListLen = len(cList)\n",
    "answers = {}\n",
    "for country in cList:\n",
    "    blank = [0]\n",
    "    blank*= ListLen\n",
    "    answers[country] = blank\n",
    "\n",
    "dataCopy = data\n",
    "for key in range(len(dataCopy)):\n",
    "    qResults = data[key]['quizResults']\n",
    "    for qN in qResults.keys():\n",
    "        if qResults[qN]['test'] == 'europe':\n",
    "            answer = qResults[qN]['answer']\n",
    "            guess = qResults[qN]['guess']\n",
    "            count = answers[answer][cList.index(guess)]\n",
    "            count += 1\n",
    "            answers[answer][cList.index(guess)] = count\n",
    "\n",
    "for i, j in answers.items():\n",
    "    print(i,j)\n",
    "#print(answers)\n",
    "key = 0\n",
    "for i in answers.keys():\n",
    "    row = []\n",
    "    row.append(cList[key])\n",
    "    row+=answers[i]\n",
    "    outputData.append(row)\n",
    "    key +=1\n",
    "\n",
    "with open('Europe Data.csv', 'w', newline='') as csv_file:\n",
    "    csv_writer = csv.writer(csv_file)\n",
    "    csv_writer.writerow([\"State\"]+cList)\n",
    "    for k,i in enumerate(outputData):\n",
    "        csv_writer.writerow(i)"
   ]
  },
  {
   "cell_type": "code",
   "execution_count": null,
   "metadata": {},
   "outputs": [],
   "source": [
    "outputData = frequencyTable(sList,'us', data)\n",
    "for k,v in enumerate(outputData):\n",
    "    print(k,v)"
   ]
  },
  {
   "cell_type": "code",
   "execution_count": null,
   "metadata": {},
   "outputs": [],
   "source": [
    "# PCA\n",
    "import pandas as pd\n",
    "import numpy as np\n",
    "from sklearn.decomposition import PCA\n",
    "import matplotlib.pyplot as plt\n",
    "from sklearn.cluster import KMeans\n",
    "#print(outputData)\n",
    "df = pd.DataFrame(outputData,index=None)#, columns=outputData[0])\n",
    "\n",
    "df.drop(df.columns[0], axis=1, inplace=True)  # Drop the first column\n",
    "print(df.shape)\n",
    "#df = df.transpose()\n",
    "\n",
    "data_array = df.to_numpy()\n",
    "pca = PCA(n_components=3,)\n",
    "pca_result = pca.fit_transform(data_array)\n",
    "print(pca_result.all())\n",
    "\n",
    "plt.figure(figsize=(8, 6))\n",
    "plt.scatter(pca_result[:, 0], pca_result[:, 1], alpha=0.7)\n",
    "plt.title('PCA Result')\n",
    "plt.xlabel('Principal Component 1')\n",
    "plt.ylabel('Principal Component 2')\n",
    "plt.grid()\n",
    "plt.show()\n",
    "\n",
    "\n",
    "KMeans = KMeans(random_state=0,n_clusters=25).fit(pca_result)\n",
    "print(KMeans.labels_)\n",
    "plt.figure(figsize=(8, 6))\n",
    "scatter = plt.scatter(pca_result[:, 0], pca_result[:, 1], c=KMeans.labels_, cmap='viridis', alpha=0.7)\n",
    "\n",
    "# Add a legend for the clusters\n",
    "legend_labels = [f'Cluster {i}' for i in range(len(set(KMeans.labels_)))]\n",
    "handles = [plt.Line2D([0], [0], marker='o', color='w', markerfacecolor=scatter.cmap(scatter.norm(i)), markersize=10) for i in range(len(set(KMeans.labels_)))]\n",
    "plt.legend(handles, legend_labels, title=\"Clusters\", loc=\"best\")\n",
    "\n",
    "# Add titles and labels\n",
    "plt.title('PCA Result with Clusters')\n",
    "plt.xlabel('Principal Component 1')\n",
    "plt.ylabel('Principal Component 2')\n",
    "plt.grid()\n",
    "plt.show()\n",
    "\n",
    "\n",
    "df_with_clusters = pd.concat([pd.DataFrame(outputData), pd.Series(KMeans.labels_, name='Cluster')], axis=1)\n",
    "\n",
    "# Inspect the DataFrame\n",
    "print(df_with_clusters.head())\n",
    "\n",
    "# Filter data points belonging to a specific cluster (e.g., Cluster 0)\n",
    "#cluster_0_data = df_with_clusters[df_with_clusters['Cluster'] == 0]\n",
    "print(cluster_0_data)\n",
    "df_with_clusters.to_csv('cluster_US_data.csv', index=False)"
   ]
  },
  {
   "cell_type": "code",
   "execution_count": null,
   "metadata": {},
   "outputs": [],
   "source": [
    "from mpl_toolkits.mplot3d import Axes3D\n",
    "from matplotlib.colors import ListedColormap\n",
    "import matplotlib.pyplot as plt\n",
    "\n",
    "# Define a discrete colormap for the clusters\n",
    "num_clusters = len(set(KMeans.labels_))\n",
    "cmap = ListedColormap(plt.cm.get_cmap('viridis', num_clusters).colors)\n",
    "\n",
    "# Create a 3D scatterplot\n",
    "fig = plt.figure(figsize=(10, 8))\n",
    "ax = fig.add_subplot(111, projection='3d')\n",
    "\n",
    "scatter = ax.scatter(pca_result[:, 0], pca_result[:, 1], pca_result[:, 2], \n",
    "                      c=KMeans.labels_, cmap=cmap, alpha=0.7)\n",
    "\n",
    "# Add titles and labels\n",
    "ax.set_title('PCA Result with Clusters (3D)')\n",
    "ax.set_xlabel('Principal Component 1')\n",
    "ax.set_ylabel('Principal Component 2')\n",
    "ax.set_zlabel('Principal Component 3')\n",
    "\n",
    "# Add a discrete colorbar for the clusters\n",
    "colorbar = plt.colorbar(scatter, ticks=range(num_clusters), label='Cluster')\n",
    "colorbar.ax.set_yticklabels([f'Cluster {i}' for i in range(num_clusters)])\n",
    "\n",
    "plt.show()"
   ]
  },
  {
   "cell_type": "code",
   "execution_count": null,
   "metadata": {},
   "outputs": [],
   "source": [
    "import matplotlib.pyplot as plt\n",
    "from matplotlib.cm import get_cmap\n",
    "from matplotlib.colors import to_hex\n",
    "\n",
    "num_clusters = len(set(KMeans.labels_))\n",
    "cmap = plt.cm.get_cmap('viridis', num_clusters)\n",
    "\n",
    "# Create a dictionary mapping states to their clusters\n",
    "state_cluster_map = {state: int(cluster) for state, cluster in zip(sList, KMeans.labels_)}\n",
    "cluster_colors={}\n",
    "# Map clusters to their corresponding colors from the colormap\n",
    "# for i in range(num_clusters):\n",
    "#     #print(i)\n",
    "#     print(int((i / (num_clusters - 1))*25))\n",
    "#     print(to_hex(cmap(int((i / (num_clusters - 1))*25))[:3]))\n",
    "#     cluster_colors[i] = to_hex(cmap(int(i / (num_clusters - 1))*25)[:3])\n",
    "cluster_colors = {cluster: to_hex(cmap(cluster)[:3]) for cluster in range(num_clusters)}\n",
    "\n",
    "# Map states to their corresponding colors\n",
    "state_color_map = {state: cluster_colors[cluster] for state, cluster in state_cluster_map.items()}\n",
    "\n",
    "# Print the resulting dictionary\n",
    "print(state_color_map)"
   ]
  },
  {
   "cell_type": "code",
   "execution_count": null,
   "metadata": {},
   "outputs": [],
   "source": [
    "state_color_map"
   ]
  },
  {
   "cell_type": "code",
   "execution_count": null,
   "metadata": {},
   "outputs": [],
   "source": [
    "import xml.etree.ElementTree as ET\n",
    "\n",
    "# Load the SVG file\n",
    "tree = ET.parse('us.svg')\n",
    "root = tree.getroot()\n",
    "\n",
    "# Define a dictionary of IDs and their corresponding fill colors\n",
    "# id_to_color = {\n",
    "#     'element1': '#FF0000',  # Red\n",
    "#     'element2': '#00FF00',  # Green\n",
    "#     'element3': '#0000FF',  # Blue\n",
    "# }\n",
    "\n",
    "id_to_color = state_color_map\n",
    "# Iterate through all elements in the SVG\n",
    "for element in root.iter():\n",
    "    element_id = element.get('id')\n",
    "    if str(element_id) in id_to_color.keys():\n",
    "        #print(\"Color Change\")\n",
    "        # Update the fill color\n",
    "        style = element.get('style', '')\n",
    "        style_dict = dict(item.split(':') for item in style.split(';') if item)\n",
    "        style_dict['fill'] = id_to_color[element_id]\n",
    "        element.set('style', ';'.join(f'{k}:{v}' for k, v in style_dict.items()))\n",
    "\n",
    "# Save the modified SVG\n",
    "tree.write('output.svg')"
   ]
  },
  {
   "cell_type": "code",
   "execution_count": null,
   "metadata": {},
   "outputs": [],
   "source": [
    "# PCA\n",
    "import pandas as pd\n",
    "import numpy as np\n",
    "from sklearn.decomposition import PCA\n",
    "import matplotlib.pyplot as plt\n",
    "\n",
    "# Load the data from the CSV file\n",
    "df = pd.DataFrame(data)\n",
    "print(df.head())\n",
    "# Drop the 'name' and 'origin' columns\n",
    "name = df['name']\n",
    "origin = df['origin']\n",
    "df = df.drop(columns=['name', 'origin','quizResults'])\n",
    "# Convert the 'score' column to two separate columns\n",
    "df[['scoreEurope', 'scoreUS']] = pd.DataFrame(df['score'].tolist(), index=df.index)\n",
    "# Drop the 'score' column\n",
    "df = df.drop(columns=['score', 'time'])\n",
    "# Convert the 'quizResults' column to a DataFrame\n",
    "# df = pd.DataFrame(df['quizResults'].tolist())\n",
    "# # Drop the 'quizResults' column\n",
    "# df = df.drop(columns=['quizResults'])\n",
    "# # Convert the DataFrame to a NumPy array\n",
    "merged = pd.concat([name, origin, df], axis=1)\n",
    "data_array = df.to_numpy()\n",
    "# Perform PCA\n",
    "pca = PCA(n_components=2)\n",
    "pca_result = pca.fit_transform(data_array)\n",
    "print(pca_result.all())\n",
    "# Create a DataFrame with the PCA result\n",
    "# Plot the PCA result using matplotlib\n",
    "plt.figure(figsize=(8, 6))\n",
    "plt.scatter(pca_result[:, 0], pca_result[:, 1], alpha=0.7)\n",
    "plt.title('PCA Result')\n",
    "plt.xlabel('Principal Component 1')\n",
    "plt.ylabel('Principal Component 2')\n",
    "plt.grid()\n",
    "plt.show()"
   ]
  },
  {
   "cell_type": "code",
   "execution_count": null,
   "metadata": {},
   "outputs": [],
   "source": [
    "from sklearn.cluster import KMeans\n",
    "KMeans = KMeans(random_state=0,n_clusters=4).fit(pca_result)\n",
    "print(KMeans.labels_)\n",
    "plt.figure(figsize=(8, 6))\n",
    "scatter = plt.scatter(pca_result[:, 0], pca_result[:, 1], c=KMeans.labels_, cmap='viridis', alpha=0.7)\n",
    "\n",
    "# Add a legend for the clusters\n",
    "legend_labels = [f'Cluster {i}' for i in range(len(set(KMeans.labels_)))]\n",
    "handles = [plt.Line2D([0], [0], marker='o', color='w', markerfacecolor=scatter.cmap(scatter.norm(i)), markersize=10) for i in range(len(set(KMeans.labels_)))]\n",
    "plt.legend(handles, legend_labels, title=\"Clusters\", loc=\"best\")\n",
    "\n",
    "# Add titles and labels\n",
    "plt.title('PCA Result with Clusters')\n",
    "plt.xlabel('Principal Component 1')\n",
    "plt.ylabel('Principal Component 2')\n",
    "plt.grid()\n",
    "plt.show()"
   ]
  },
  {
   "cell_type": "code",
   "execution_count": null,
   "metadata": {},
   "outputs": [],
   "source": [
    "df_with_clusters = pd.concat([merged, pd.Series(KMeans.labels_, name='Cluster')], axis=1)\n",
    "\n",
    "# Inspect the DataFrame\n",
    "print(df_with_clusters.head())\n",
    "\n",
    "# Filter data points belonging to a specific cluster (e.g., Cluster 0)\n",
    "#cluster_0_data = df_with_clusters[df_with_clusters['Cluster'] == 0]\n",
    "print(cluster_0_data)\n",
    "df_with_clusters.to_csv('cluster_0_data.csv', index=False)"
   ]
  },
  {
   "cell_type": "code",
   "execution_count": null,
   "metadata": {},
   "outputs": [],
   "source": [
    "testList = [1, 4, 7, 12, 13, 16, 18, 21, 23, 24, 25, 26]\n",
    "\n",
    "def fillWithZero(inputList):\n",
    "    outputList = []\n",
    "    inputLCopy = inputList.copy()\n",
    "    inputLCIndex = 0\n",
    "    for i in range(1,inputList[len(inputList)-1]+1):\n",
    "        if i in inputList:\n",
    "            outputList.append(inputList[inputLCIndex])\n",
    "            inputLCIndex += 1\n",
    "        else:\n",
    "            outputList.append(0)\n",
    "    return outputList\n",
    "fillWithZero(testList)"
   ]
  },
  {
   "cell_type": "code",
   "execution_count": null,
   "metadata": {},
   "outputs": [],
   "source": [
    "#Participant Score Ouptut\n",
    "import datetime as dt\n",
    "import copy\n",
    "dataCopy = copy.deepcopy(data)\n",
    "combinedList = cList + sList\n",
    "#print(combinedList)\n",
    "#print([f'{name}' for name in combinedList if combinedList != True])\n",
    "def insertBetween(insertValue, list = [1, 4, 7, 12, 13, 16, 18, 21, 23, 24, 25, 26], index = 3):\n",
    "    search = list.count(index)\n",
    "    if search != 0:\n",
    "        raise ValueError(\"value is in the list\")\n",
    "    for i in range(len(list)-1):\n",
    "        if list[i] < index < list[i+1]:\n",
    "            list.insert(i+1, insertValue)\n",
    "            break\n",
    "    return list\n",
    "def fillWithZero(inputList):\n",
    "    outputList = []\n",
    "    inputLCopy = inputList.copy()\n",
    "    inputLCIndex = 0\n",
    "    for i in range(1,inputList[len(inputList)-1]+1):\n",
    "        if i in inputList:\n",
    "            outputList.append(inputList[inputLCIndex])\n",
    "            inputLCIndex += 1\n",
    "        else:\n",
    "            outputList.append(0)\n",
    "    for i in range(len(combinedList)-len(outputList)):\n",
    "        outputList.append(0)\n",
    "    #print(len(outputList), len(combinedList))\n",
    "    return outputList\n",
    "\n",
    "for i in dataCopy:\n",
    "    date = dt.datetime.fromtimestamp(i['time']/1000.0).strftime('%Y-%m-%d %H:%M:%S')\n",
    "    #i['time'] = date\n",
    "    numberTest = [] # Guess, Answer\n",
    "    #print(len(i['quizResults']))\n",
    "    for qN in range(len(i['quizResults'])):\n",
    "        i['quizResults'][str(qN)]['guess'] = combinedList.index(i['quizResults'][str(qN)]['guess'])\n",
    "        i['quizResults'][str(qN)]['answer'] = combinedList.index(i['quizResults'][str(qN)]['answer'])\n",
    "    for qN in range(len(i['quizResults'])):\n",
    "        if i['quizResults'][str(qN)]['guess'] == i['quizResults'][str(qN)]['answer']:\n",
    "            numberTest.append(i['quizResults'][str(qN)]['guess'])\n",
    "    numberTest.sort()\n",
    "    numberTest = fillWithZero(numberTest)\n",
    "    for qN in range(len(i['quizResults'])):\n",
    "        for j in range(len(numberTest)):\n",
    "            if numberTest[j] == 0:\n",
    "                numberTest[i] = i['quizResults'][str(qN)]['guess']\n",
    "        \n",
    "    print(i['name'], date, i['score'], numberTest)"
   ]
  },
  {
   "cell_type": "code",
   "execution_count": null,
   "metadata": {},
   "outputs": [],
   "source": [
    "%debug"
   ]
  },
  {
   "cell_type": "code",
   "execution_count": null,
   "metadata": {},
   "outputs": [],
   "source": [
    "for i in data:\n",
    "    print(i['quizResults'])"
   ]
  },
  {
   "cell_type": "code",
   "execution_count": null,
   "metadata": {},
   "outputs": [],
   "source": [
    "for i in range(40):\n",
    "    print(dataCopy[0]['quizResults'][str(i)]['guess'])"
   ]
  }
 ],
 "metadata": {
  "kernelspec": {
   "display_name": "Python 3",
   "language": "python",
   "name": "python3"
  },
  "language_info": {
   "codemirror_mode": {
    "name": "ipython",
    "version": 3
   },
   "file_extension": ".py",
   "mimetype": "text/x-python",
   "name": "python",
   "nbconvert_exporter": "python",
   "pygments_lexer": "ipython3",
   "version": "3.13.3"
  }
 },
 "nbformat": 4,
 "nbformat_minor": 2
}
